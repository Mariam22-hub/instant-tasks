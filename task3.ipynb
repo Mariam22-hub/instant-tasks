{
 "cells": [
  {
   "cell_type": "markdown",
   "metadata": {},
   "source": [
    "TASK 3 "
   ]
  },
  {
   "cell_type": "code",
   "execution_count": null,
   "metadata": {},
   "outputs": [],
   "source": [
    "#factorial function\n",
    "\n",
    "def factorial(x):\n",
    "    \"\"\"This is a recursive function\n",
    "    to find the factorial of an integer\"\"\"\n",
    "\n",
    "    if x == 1:\n",
    "        return 1\n",
    "    else:\n",
    "        return (x * factorial(x-1))\n",
    "\n",
    "\n",
    "num = 3\n",
    "print((num))"
   ]
  },
  {
   "cell_type": "code",
   "execution_count": 31,
   "metadata": {},
   "outputs": [
    {
     "name": "stdout",
     "output_type": "stream",
     "text": [
      "8\n"
     ]
    }
   ],
   "source": [
    "# binary search -- iterative\n",
    "\n",
    "def binary_search (arr, item):\n",
    "    begin_index = 0\n",
    "    end_index = len(arr) - 1\n",
    "\n",
    "    while (begin_index <= end_index):\n",
    "        midpoint = begin_index + (end_index - begin_index) // 2\n",
    "        midpoint_value = arr[midpoint]\n",
    "\n",
    "        if (midpoint == item):\n",
    "            return midpoint\n",
    "        elif (item < midpoint_value):\n",
    "            end_index = midpoint - 1\n",
    "        else:\n",
    "            begin_index = midpoint + 1\n",
    "    \n",
    "    return None\n",
    "\n",
    "arr = [1,2,3,4,5,6,7,8,9,10,11]\n",
    "item = 8\n",
    "print(binary_search(arr, item))"
   ]
  },
  {
   "cell_type": "code",
   "execution_count": 32,
   "metadata": {},
   "outputs": [
    {
     "name": "stdout",
     "output_type": "stream",
     "text": [
      "Element found at index 1\n"
     ]
    }
   ],
   "source": [
    "# binary search -- recursive\n",
    "\n",
    "def binarySearch(nums, left, right, target):\n",
    " \n",
    "    # Base condition (search space is exhausted)\n",
    "    if left > right:\n",
    "        return -1\n",
    " \n",
    " \n",
    "    mid = (left + right) // 2\n",
    " \n",
    "    if target == nums[mid]:\n",
    "        return mid\n",
    "\n",
    "    elif target < nums[mid]:\n",
    "        return binarySearch(nums, left, mid - 1, target)\n",
    " \n",
    "\n",
    "    else:\n",
    "        return binarySearch(nums, mid + 1, right, target)\n",
    " \n",
    " \n",
    "\n",
    "nums = [2, 5, 6, 8, 9, 10]\n",
    "target = 5\n",
    "\n",
    "(left, right) = (0, len(nums) - 1)\n",
    "index = binarySearch(nums, left, right, target)\n",
    " \n",
    "if index != -1:\n",
    "    print('Element found at index', index)\n",
    "else:\n",
    "    print('Element found not in the list')\n",
    " \n"
   ]
  }
 ],
 "metadata": {
  "kernelspec": {
   "display_name": "Python 3.10.5 64-bit",
   "language": "python",
   "name": "python3"
  },
  "language_info": {
   "codemirror_mode": {
    "name": "ipython",
    "version": 3
   },
   "file_extension": ".py",
   "mimetype": "text/x-python",
   "name": "python",
   "nbconvert_exporter": "python",
   "pygments_lexer": "ipython3",
   "version": "3.10.5"
  },
  "orig_nbformat": 4,
  "vscode": {
   "interpreter": {
    "hash": "e450050b432e843bda3c41bf3272c133bfc370a7003f3e377e27f87a49ce1127"
   }
  }
 },
 "nbformat": 4,
 "nbformat_minor": 2
}
