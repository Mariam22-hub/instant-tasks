{
 "cells": [
  {
   "cell_type": "markdown",
   "metadata": {},
   "source": []
  },
  {
   "cell_type": "markdown",
   "metadata": {},
   "source": [
    "Task 4"
   ]
  },
  {
   "cell_type": "markdown",
   "metadata": {},
   "source": [
    "1. How to sort dictionary by keys"
   ]
  },
  {
   "cell_type": "code",
   "execution_count": null,
   "metadata": {},
   "outputs": [],
   "source": [
    "diction = {1: \"apples\", 3: \"mangoes\", 5: \"kiwis\", 2: \"oranges\", 4: \"bananas\"}\n",
    "sorted_items = diction.items()\n",
    "print(sorted(sorted_items))"
   ]
  },
  {
   "cell_type": "markdown",
   "metadata": {},
   "source": [
    "2. Create a function receives stack elements as inputs from user while not equal to zero\n"
   ]
  },
  {
   "cell_type": "code",
   "execution_count": 35,
   "metadata": {},
   "outputs": [
    {
     "name": "stdout",
     "output_type": "stream",
     "text": [
      " 2 - 3 - 6 - 4 - 8 \n"
     ]
    }
   ],
   "source": [
    "# implementing stack using linked lists\n",
    "\n",
    "class Node:\n",
    "    def __init__ (self, value):\n",
    "        self.value = value\n",
    "        self.next = None\n",
    "    \n",
    "class Stack:\n",
    "    \n",
    "    def __init__ (self):\n",
    "        self.head = Node(\"head\")\n",
    "        self.size = 0\n",
    "\n",
    "    def getsize(self):\n",
    "        return self.size\n",
    "    \n",
    "    def isEmpty(self):\n",
    "        return self.size == 0\n",
    "    \n",
    "    def peek(self):\n",
    "        if self.isEmpty():\n",
    "            raise Exception(\"empty string\")\n",
    "        return self.head.next.value\n",
    "    \n",
    "    def push(self, value):\n",
    "        node = Node(value)\n",
    "        node.next = self.head.next\n",
    "        self.head.next = node\n",
    "        self.size += 1\n",
    "    \n",
    "    def pop(self):\n",
    "        if self.isEmpty():\n",
    "            raise Exception(\"empty string\")\n",
    "        remove = self.head.next\n",
    "        self.head.next = self.head.next.next\n",
    "        self.size -= 1\n",
    "\n",
    "        return remove.value\n",
    "\n",
    "    def __str__(self):\n",
    "        current = self.head.next\n",
    "        output = \" \"\n",
    "        while current:\n",
    "            output += str(current.value) + \" - \"\n",
    "            current = current.next\n",
    "        return output [:-2]\n",
    "    \n",
    "\n",
    "def user():\n",
    "    stack = Stack()\n",
    "    size = int (input(\"enter size: \"))\n",
    "    \n",
    "    while (size):\n",
    "        value = int(input(\"enter number: \"))\n",
    "        \n",
    "        if value != 0:\n",
    "            stack.push(value)\n",
    "        size -= 1\n",
    "\n",
    "    return print(f\"{stack}\")\n",
    "\n",
    "user()\n"
   ]
  },
  {
   "cell_type": "markdown",
   "metadata": {},
   "source": [
    "## 3.How does DFS and BFS work"
   ]
  },
  {
   "cell_type": "markdown",
   "metadata": {},
   "source": [
    "| Breadth First Search | Depth First Search   |\n",
    "|:------|:------|\n",
    "|   \tBFS is a traversal approach in which we first walk through all nodes on the same level before moving on to the next level.    | \t\tBFS is a traversal approach in which we first walk through all nodes on the same level before moving on to the next level.  | \n",
    "|   It uses a queue to keep track of the next location to visit.| It uses a stack to keep track of the next location to visit.| \n",
    "|   BFS traverses according to tree level.| DFS traverses according to tree depth.| \n",
    "|   It is implemented using FIFO list.| It is implemented using LIFO list.|\n",
    "|   It requires more memory as compare to DFS.| It requires less memory as compare to BFS.| \n",
    "|   BFS is better when target is closer to Source.| \tDFS is better when target is far from source.| \n",
    "|   This algorithm gives the shallowest path solution.| This algorithm doesn’t guarantee the shallowest path solution.| \n",
    "|   There is no need of backtracking in BFS.| There is a need of backtracking in DFS.| "
   ]
  },
  {
   "cell_type": "markdown",
   "metadata": {},
   "source": [
    "## 4.Compare between Adjacency Matrix/List"
   ]
  },
  {
   "cell_type": "markdown",
   "metadata": {},
   "source": [
    "| | Adjacency Matrix | Adjacency List |\n",
    "|:------|:------|:-------|\n",
    "| <strong>Definition</strong>    | In the adjacency matrix representation, a graph is represented in the form of a two-dimensional array. The size of the array is V x V, where V is the set of vertices.     | In the adjacency list representation, a graph is represented as an array of linked list. The index of the array represents a vertex and each element in its linked list represents the vertices that form an edge with the vertex.     |\n",
    "| <strong>Space</strong>    | Make use of VxV matrix so in worst case O(\\|V\\|$^{2}$)     | We store every vertex V and its adjacent neighbours E so worst case is O(\\|V\\|+\\|E\\|)    |\n",
    "| <strong>Adding a vertex</strong>    | In order to add a new vertex to VxV matrix the storage must be increases to (\\|V\\|+1)$^{2}$. To achieve this we need to copy the whole matrix. Therefore the complexity is O(\\|V\\|2)    | There are two pointers in adjacency list first points to the front node and the other one points to the rear node.Thus insertion of a vertex can be done directly in O(1) time.    |\n",
    "| <strong>Removing a vertex</strong>    | In order to remove a vertex from V*V matrix the storage must be decreased to \\|V\\|$^{2}$  from (\\|V\\|+1)$^{2}$. To achieve this we need to copy the whole matrix. Therefore the complexity is O(\\|V\\|$^{2}$).      | In order to remove a vertex, we need to search for the vertex which will require O(\\|V\\|) time in worst case, after this we need to traverse the edges and in worst case it will require O(\\|E\\|) time.Hence, total time complexity is O(\\|V\\|+\\|E\\|). |\n",
    "| <strong>Removing a edge</strong>    | To remove an edge say from i to j, matrix[i][j] = 0 which requires O(1) time.    | To remove an edge traversing through the edges is required and in worst case we need to traverse through all the edges.Thus, the time complexity is O(\\|E\\|). |\n",
    "| <strong>Querying</strong>    | In order to find for an existing edge  the content of matrix needs to be checked. Given two vertices say i and j matrix[i][j] can be checked in O(1) time.    | In an adjacency list every vertex is associated with a list of adjacent vertices. For a given graph, in order to check for an edge we need to check for vertices adjacent to given vertex. A vertex can have at most O(\\|V\\|) neighbours and in worst can we would have to check for every adjacent vertex. Therefore, time complexity is O(\\|V\\|) . |\n",
    "\n"
   ]
  },
  {
   "cell_type": "markdown",
   "metadata": {},
   "source": [
    "5. create multiset"
   ]
  },
  {
   "cell_type": "code",
   "execution_count": null,
   "metadata": {},
   "outputs": [],
   "source": [
    "class Multiset:\n",
    "\n",
    "    def __init__(self):\n",
    "        self.l = []\n",
    "\n",
    "    def add(self, val):\n",
    "        \n",
    "        pass        \n",
    "        return self.l.append(val)\n",
    "\n",
    "    def remove(self, val):\n",
    "       \n",
    "        pass\n",
    "        if val in self.l:\n",
    "            return  self.l.remove(val)\n",
    "    \n",
    "    def __contains__(self, val):\n",
    "        \n",
    "        if val in self.l:\n",
    "            return True\n",
    "        else:\n",
    "            return False\n",
    "\n",
    "    def __len__(self):\n",
    "        \n",
    "        return len(self.l)\n",
    "if __name__ == '__main__':\n",
    "    pass"
   ]
  }
 ],
 "metadata": {
  "kernelspec": {
   "display_name": "Python 3.10.5 64-bit",
   "language": "python",
   "name": "python3"
  },
  "language_info": {
   "codemirror_mode": {
    "name": "ipython",
    "version": 3
   },
   "file_extension": ".py",
   "mimetype": "text/x-python",
   "name": "python",
   "nbconvert_exporter": "python",
   "pygments_lexer": "ipython3",
   "version": "3.10.5"
  },
  "orig_nbformat": 4,
  "vscode": {
   "interpreter": {
    "hash": "e450050b432e843bda3c41bf3272c133bfc370a7003f3e377e27f87a49ce1127"
   }
  }
 },
 "nbformat": 4,
 "nbformat_minor": 2
}
