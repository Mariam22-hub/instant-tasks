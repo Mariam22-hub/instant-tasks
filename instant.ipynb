{
 "cells": [
  {
   "cell_type": "markdown",
   "metadata": {},
   "source": [
    "INSTANT ASSIGNMENT 2"
   ]
  },
  {
   "cell_type": "code",
   "execution_count": null,
   "metadata": {},
   "outputs": [],
   "source": [
    "#task 1\n",
    "for i in range(1500, 2700):\n",
    "    if (i % 5 == 0 and i % 7 == 0):\n",
    "        print(i)"
   ]
  },
  {
   "cell_type": "code",
   "execution_count": null,
   "metadata": {},
   "outputs": [],
   "source": [
    "# TASK 2\n",
    "temp = input(\"Input the  temperature: \")\n",
    "\n",
    "degree = int(temp[:-1])\n",
    "\n",
    "detect = temp[-1]\n",
    "\n",
    "if detect.upper() == \"C\":\n",
    "    result = int(round((9 * degree) / 5 + 32))\n",
    "    converted = \"Fahrenheit\"\n",
    "\n",
    "elif detect.upper() == \"F\":\n",
    "    result = int(round((degree - 32) * 5 / 9))\n",
    "    converted = \"Celsius\"\n",
    "\n",
    "print(\"The temperature is \" + str(result) + \" \"+ converted)"
   ]
  },
  {
   "cell_type": "code",
   "execution_count": null,
   "metadata": {},
   "outputs": [],
   "source": [
    "# TASK 3\n",
    "for i in range(5):\n",
    "    for j in range(0, i + 1):\n",
    "        print('*', end = '')\n",
    "    print()\n",
    "\n",
    "for i in range(1, 5):\n",
    "    for j in range(i, 5):\n",
    "        print('*', end = '')\n",
    "    print()\n"
   ]
  },
  {
   "cell_type": "code",
   "execution_count": null,
   "metadata": {},
   "outputs": [],
   "source": [
    "# TASK 4\n",
    "word = input(\"enter the text here: \")\n",
    "t = word[::-1]\n",
    "print(t)"
   ]
  },
  {
   "cell_type": "code",
   "execution_count": null,
   "metadata": {},
   "outputs": [],
   "source": [
    "# TASK 5\n",
    "def maxfunc (num):\n",
    "    list = []\n",
    "\n",
    "    for i in str(number):\n",
    "        list.append(int(i))\n",
    "\n",
    "    print(max(list))\n",
    "\n",
    "number = input(\"input three numbers: \")\n",
    "maxfunc(number)"
   ]
  },
  {
   "cell_type": "code",
   "execution_count": null,
   "metadata": {},
   "outputs": [],
   "source": [
    "#TASK 6\n",
    "def summation(list):\n",
    "    sum = 0\n",
    "    for i in list:\n",
    "        sum = sum + i\n",
    "\n",
    "    print(sum)\n",
    "\n",
    "n = int(input(\"Enter number of elements : \"))\n",
    "lst = []\n",
    "\n",
    "for i in range(0, n):\n",
    "    ele = int(input())\n",
    "    lst.append(ele)\n",
    "\n",
    "summation(lst)"
   ]
  },
  {
   "cell_type": "code",
   "execution_count": null,
   "metadata": {},
   "outputs": [],
   "source": [
    "#TASK 7\n",
    "for i in range(0,6):\n",
    "    if (i == 6 or i == 3):\n",
    "        continue\n",
    "    else:\n",
    "        print(i)"
   ]
  },
  {
   "cell_type": "code",
   "execution_count": null,
   "metadata": {},
   "outputs": [],
   "source": [
    "#TASK 8\n",
    "def fact(number):\n",
    "    result = 1 \n",
    "    for i in range(number, 1, -1):\n",
    "        result = result * i\n",
    "    \n",
    "    print (result)\n",
    "\n",
    "number = int(input())\n",
    "fact(number)"
   ]
  },
  {
   "cell_type": "code",
   "execution_count": null,
   "metadata": {},
   "outputs": [],
   "source": [
    "#TASK 9\n",
    "def unique (n):\n",
    "    dic = dict.fromkeys(n)\n",
    "    mylist = []\n",
    "    mylist = list(dic);\n",
    "\n",
    "    return mylist\n",
    "\n",
    "\n",
    "n = int(input(\"write size of list : \"))\n",
    "lst = []\n",
    "\n",
    "for i in range(0, n):\n",
    "    ele = int(input())\n",
    "    lst.append(ele)\n",
    "\n",
    "lst = unique(lst)\n",
    "print(lst)"
   ]
  },
  {
   "cell_type": "code",
   "execution_count": null,
   "metadata": {},
   "outputs": [],
   "source": [
    "#TASK 10\n",
    "n = int(input())\n",
    "\n",
    "addition = lambda x : 15 + x\n",
    "print(addition(n))\n",
    "\n",
    "x = int(input())\n",
    "y = int(input())\n",
    "\n",
    "multiply = lambda n1, n2 : n1*n2\n",
    "print(multiply(x,y)) \n"
   ]
  }
 ],
 "metadata": {
  "kernelspec": {
   "display_name": "Python 3.10.5 64-bit",
   "language": "python",
   "name": "python3"
  },
  "language_info": {
   "codemirror_mode": {
    "name": "ipython",
    "version": 3
   },
   "file_extension": ".py",
   "mimetype": "text/x-python",
   "name": "python",
   "nbconvert_exporter": "python",
   "pygments_lexer": "ipython3",
   "version": "3.10.5"
  },
  "orig_nbformat": 4,
  "vscode": {
   "interpreter": {
    "hash": "e450050b432e843bda3c41bf3272c133bfc370a7003f3e377e27f87a49ce1127"
   }
  }
 },
 "nbformat": 4,
 "nbformat_minor": 2
}
